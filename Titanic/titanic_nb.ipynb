{
 "cells": [
  {
   "cell_type": "markdown",
   "metadata": {},
   "source": [
    "# Contents"
   ]
  },
  {
   "cell_type": "markdown",
   "metadata": {},
   "source": [
    "<a name=\"imports-load\"></a>\n",
    "# Imports and Data Load"
   ]
  },
  {
   "cell_type": "code",
   "execution_count": 4,
   "metadata": {},
   "outputs": [],
   "source": [
    "import csv\n",
    "import matplotlib.pyplot as plt\n",
    "import numpy as np\n",
    "import pandas as pd\n",
    "# from sklearn.metrics import confusion_matrix\n",
    "# from sklearn.model_selection import train_test_split\n",
    "# from sklearn.preprocessing import StandardScaler\n",
    "# from sklearn.svm import SVC\n",
    "# from sklearn.utils import shuffle\n",
    "# from sklearn.metrics import accuracy_score\n",
    "# from sklearn.metrics import classification_report"
   ]
  },
  {
   "cell_type": "code",
   "execution_count": 10,
   "metadata": {},
   "outputs": [],
   "source": [
    "with open('data/train.csv', 'r') as f:\n",
    "    data_iter = csv.reader(f,quotechar='\"')\n",
    "    data = [row for row in data_iter]\n",
    "data_array = np.array(data)"
   ]
  },
  {
   "cell_type": "code",
   "execution_count": 55,
   "metadata": {},
   "outputs": [],
   "source": [
    "x_labels = [label for label in data_array[0]]\n",
    "x_features = x_labels.remove('Survived')\n",
    "x_train = np.concatenate((data_array[1:,0].reshape(-1,1), data_array[1:, 2:]), axis=1)\n",
    "y_train = data_array[1:,1]"
   ]
  },
  {
   "cell_type": "markdown",
   "metadata": {},
   "source": [
    "<details>\n",
    "  <summary><font size=\"4\" color=\"darkgreen\"><b>Lessons:</b><i> Try remembering before expanding</i></font></summary>\n",
    "\n",
    "  \n",
    "1. `np.concatenate((data_array[1:,0], data_array[1:, 2:]), axis=1)` doesn't work because the first array gets treated as a row vector and then concatenation on axis 1 fails\n",
    "2. Mathematically, doing the transpose of the row vector should works, but the code `np.concatenate((data_array[1:,0].T, data_array[1:, 2:]), axis=1)` fails as it doesn't transpose the row vector because the shape is considered as (891,) and not (891,1)\n",
    "3. Reshaping works"
   ]
  },
  {
   "cell_type": "code",
   "execution_count": 54,
   "metadata": {},
   "outputs": [
    {
     "data": {
      "text/plain": [
       "array([['1', '3', 'Braund, Mr. Owen Harris', ..., '7.25', '', 'S'],\n",
       "       ['2', '1', 'Cumings, Mrs. John Bradley (Florence Briggs Thayer)',\n",
       "        ..., '71.2833', 'C85', 'C'],\n",
       "       ['3', '3', 'Heikkinen, Miss. Laina', ..., '7.925', '', 'S'],\n",
       "       ...,\n",
       "       ['889', '3', 'Johnston, Miss. Catherine Helen \"Carrie\"', ...,\n",
       "        '23.45', '', 'S'],\n",
       "       ['890', '1', 'Behr, Mr. Karl Howell', ..., '30', 'C148', 'C'],\n",
       "       ['891', '3', 'Dooley, Mr. Patrick', ..., '7.75', '', 'Q']],\n",
       "      dtype='<U82')"
      ]
     },
     "execution_count": 54,
     "metadata": {},
     "output_type": "execute_result"
    }
   ],
   "source": [
    "x_train"
   ]
  },
  {
   "cell_type": "code",
   "execution_count": 46,
   "metadata": {},
   "outputs": [
    {
     "data": {
      "text/plain": [
       "(892, 12)"
      ]
     },
     "execution_count": 46,
     "metadata": {},
     "output_type": "execute_result"
    }
   ],
   "source": [
    "data_array.shape"
   ]
  },
  {
   "cell_type": "code",
   "execution_count": null,
   "metadata": {},
   "outputs": [],
   "source": []
  }
 ],
 "metadata": {
  "kernelspec": {
   "display_name": "Python 3.9.7 ('devenv': venv)",
   "language": "python",
   "name": "python3"
  },
  "language_info": {
   "codemirror_mode": {
    "name": "ipython",
    "version": 3
   },
   "file_extension": ".py",
   "mimetype": "text/x-python",
   "name": "python",
   "nbconvert_exporter": "python",
   "pygments_lexer": "ipython3",
   "version": "3.9.7"
  },
  "orig_nbformat": 4,
  "vscode": {
   "interpreter": {
    "hash": "730c0b929b5aa3636abf74e4ddf9af8396493b9d2e29a3d21c079e5f4cb4ba9c"
   }
  }
 },
 "nbformat": 4,
 "nbformat_minor": 2
}
